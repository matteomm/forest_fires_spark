{
 "cells": [
  {
   "cell_type": "code",
   "execution_count": 10,
   "metadata": {},
   "outputs": [],
   "source": [
    "# importing the necessary libraries\n",
    "from pyspark import SparkContext\n",
    "from pyspark.sql import SparkSession\n"
   ]
  },
  {
   "cell_type": "markdown",
   "metadata": {},
   "source": [
    "# Creating a pyspark session with sql"
   ]
  },
  {
   "cell_type": "code",
   "execution_count": 11,
   "metadata": {},
   "outputs": [],
   "source": [
    "spark = SparkSession.builder.master('local').getOrCreate()"
   ]
  },
  {
   "cell_type": "code",
   "execution_count": 12,
   "metadata": {},
   "outputs": [
    {
     "data": {
      "text/plain": [
       "pyspark.sql.dataframe.DataFrame"
      ]
     },
     "execution_count": 12,
     "metadata": {},
     "output_type": "execute_result"
    }
   ],
   "source": [
    "#reading in pyspark df\n",
    "spark_df = spark.read.csv('./forestfires.csv', header='true', inferSchema='true')\n",
    "\n",
    "#observing the datatype of df\n",
    "type(spark_df)"
   ]
  },
  {
   "cell_type": "code",
   "execution_count": 13,
   "metadata": {},
   "outputs": [
    {
     "data": {
      "text/plain": [
       "Row(X=7, Y=5, month='mar', day='fri', FFMC=86.2, DMC=26.2, DC=94.3, ISI=5.1, temp=8.2, RH=51, wind=6.7, rain=0.0, area=0.0)"
      ]
     },
     "execution_count": 13,
     "metadata": {},
     "output_type": "execute_result"
    }
   ],
   "source": [
    "spark_df.head()"
   ]
  },
  {
   "cell_type": "code",
   "execution_count": 14,
   "metadata": {},
   "outputs": [
    {
     "data": {
      "text/plain": [
       "['X',\n",
       " 'Y',\n",
       " 'month',\n",
       " 'day',\n",
       " 'FFMC',\n",
       " 'DMC',\n",
       " 'DC',\n",
       " 'ISI',\n",
       " 'temp',\n",
       " 'RH',\n",
       " 'wind',\n",
       " 'rain',\n",
       " 'area']"
      ]
     },
     "execution_count": 14,
     "metadata": {},
     "output_type": "execute_result"
    }
   ],
   "source": [
    "spark_df.columns"
   ]
  },
  {
   "cell_type": "code",
   "execution_count": 15,
   "metadata": {},
   "outputs": [
    {
     "data": {
      "text/plain": [
       "DataFrame[month: string, day: string, rain: double]"
      ]
     },
     "execution_count": 15,
     "metadata": {},
     "output_type": "execute_result"
    }
   ],
   "source": [
    "spark_df[['month','day','rain']]"
   ]
  },
  {
   "cell_type": "code",
   "execution_count": 16,
   "metadata": {},
   "outputs": [],
   "source": [
    "d = spark_df.select('rain')"
   ]
  },
  {
   "cell_type": "code",
   "execution_count": 29,
   "metadata": {},
   "outputs": [
    {
     "data": {
      "text/plain": [
       "DataFrame[rain: double]"
      ]
     },
     "execution_count": 29,
     "metadata": {},
     "output_type": "execute_result"
    }
   ],
   "source": [
    "d"
   ]
  },
  {
   "cell_type": "code",
   "execution_count": 18,
   "metadata": {},
   "outputs": [
    {
     "data": {
      "text/plain": [
       "Column<b'rain'>"
      ]
     },
     "execution_count": 18,
     "metadata": {},
     "output_type": "execute_result"
    }
   ],
   "source": [
    "spark_df['rain']"
   ]
  },
  {
   "cell_type": "code",
   "execution_count": 30,
   "metadata": {},
   "outputs": [
    {
     "data": {
      "text/plain": [
       "DataFrame[month: string, avg(area): double]"
      ]
     },
     "execution_count": 30,
     "metadata": {},
     "output_type": "execute_result"
    }
   ],
   "source": [
    "spark_df_months = spark_df.groupBy('month').agg({'area': 'mean'})\n",
    "spark_df_months"
   ]
  },
  {
   "cell_type": "code",
   "execution_count": 31,
   "metadata": {},
   "outputs": [
    {
     "data": {
      "text/plain": [
       "[Row(month='jun', avg(area)=5.841176470588234),\n",
       " Row(month='aug', avg(area)=12.489076086956521),\n",
       " Row(month='may', avg(area)=19.24),\n",
       " Row(month='feb', avg(area)=6.275),\n",
       " Row(month='sep', avg(area)=17.942616279069753),\n",
       " Row(month='mar', avg(area)=4.356666666666667),\n",
       " Row(month='oct', avg(area)=6.638),\n",
       " Row(month='jul', avg(area)=14.3696875),\n",
       " Row(month='nov', avg(area)=0.0),\n",
       " Row(month='apr', avg(area)=8.891111111111112),\n",
       " Row(month='dec', avg(area)=13.33),\n",
       " Row(month='jan', avg(area)=0.0)]"
      ]
     },
     "execution_count": 31,
     "metadata": {},
     "output_type": "execute_result"
    }
   ],
   "source": [
    "spark_df_months.collect()"
   ]
  },
  {
   "cell_type": "code",
   "execution_count": 32,
   "metadata": {},
   "outputs": [],
   "source": [
    "no_rain = spark_df.filter(spark_df['rain'] == 0.0)\n",
    "some_rain = spark_df.filter(spark_df['rain'] > 0.0)"
   ]
  },
  {
   "cell_type": "code",
   "execution_count": null,
   "metadata": {},
   "outputs": [],
   "source": []
  },
  {
   "cell_type": "code",
   "execution_count": 33,
   "metadata": {},
   "outputs": [
    {
     "data": {
      "text/plain": [
       "DataFrame[X: int, Y: int, month: string, day: string, FFMC: double, DMC: double, DC: double, ISI: double, temp: double, RH: int, wind: double, rain: double, area: double]"
      ]
     },
     "execution_count": 33,
     "metadata": {},
     "output_type": "execute_result"
    }
   ],
   "source": [
    "some_rain"
   ]
  },
  {
   "cell_type": "code",
   "execution_count": 36,
   "metadata": {},
   "outputs": [
    {
     "name": "stdout",
     "output_type": "stream",
     "text": [
      "+------------------+\n",
      "|         avg(area)|\n",
      "+------------------+\n",
      "|13.023693516699408|\n",
      "+------------------+\n",
      "\n",
      "None \n",
      "\n",
      "+---------+\n",
      "|avg(area)|\n",
      "+---------+\n",
      "|  1.62375|\n",
      "+---------+\n",
      "\n",
      "None \n",
      "\n"
     ]
    }
   ],
   "source": [
    "from pyspark.sql.functions import mean\n",
    "\n",
    "print(no_rain.select(mean('area')).show(),'\\n')\n",
    "\n",
    "print(some_rain.select(mean('area')).show(),'\\n')"
   ]
  },
  {
   "cell_type": "code",
   "execution_count": 28,
   "metadata": {},
   "outputs": [
    {
     "name": "stdout",
     "output_type": "stream",
     "text": [
      "+------------------+\n",
      "|         avg(area)|\n",
      "+------------------+\n",
      "|12.262317596566525|\n",
      "+------------------+\n",
      "\n",
      "summer months fire area None\n",
      "+-----------------+\n",
      "|        avg(area)|\n",
      "+-----------------+\n",
      "|7.918387096774193|\n",
      "+-----------------+\n",
      "\n",
      "winter months fire areas None\n"
     ]
    }
   ],
   "source": [
    "summer_months = spark_df.filter(spark_df['month'].isin(['jun','jul','aug']))\n",
    "winter_months = spark_df.filter(spark_df['month'].isin(['dec','jan','feb']))\n",
    "\n",
    "print('summer months fire area', summer_months.select(mean('area')).show())\n",
    "print('winter months fire areas', winter_months.select(mean('area')).show())"
   ]
  },
  {
   "cell_type": "markdown",
   "metadata": {},
   "source": [
    "# Modelling"
   ]
  },
  {
   "cell_type": "code",
   "execution_count": 38,
   "metadata": {},
   "outputs": [],
   "source": [
    "from pyspark.ml.regression import RandomForestRegressor\n",
    "from pyspark.ml import feature\n",
    "from pyspark.ml.feature import StringIndexer, VectorAssembler, OneHotEncoder"
   ]
  },
  {
   "cell_type": "code",
   "execution_count": 39,
   "metadata": {},
   "outputs": [
    {
     "data": {
      "text/plain": [
       "Row(X=7, Y=5, month='mar', FFMC=86.2, DMC=26.2, DC=94.3, ISI=5.1, temp=8.2, RH=51, wind=6.7, rain=0.0, area=0.0)"
      ]
     },
     "execution_count": 39,
     "metadata": {},
     "output_type": "execute_result"
    }
   ],
   "source": [
    "fire_df = spark_df.drop('day')\n",
    "fire_df.head()"
   ]
  },
  {
   "cell_type": "code",
   "execution_count": 40,
   "metadata": {},
   "outputs": [],
   "source": [
    "si = StringIndexer(inputCol='month', outputCol='month_num')\n",
    "model = si.fit(fire_df)\n",
    "new_df = model.transform(fire_df)"
   ]
  },
  {
   "cell_type": "code",
   "execution_count": 41,
   "metadata": {},
   "outputs": [
    {
     "data": {
      "text/plain": [
       "['aug',\n",
       " 'sep',\n",
       " 'mar',\n",
       " 'jul',\n",
       " 'feb',\n",
       " 'jun',\n",
       " 'oct',\n",
       " 'apr',\n",
       " 'dec',\n",
       " 'jan',\n",
       " 'may',\n",
       " 'nov']"
      ]
     },
     "execution_count": 41,
     "metadata": {},
     "output_type": "execute_result"
    }
   ],
   "source": [
    "model.labels"
   ]
  },
  {
   "cell_type": "code",
   "execution_count": 42,
   "metadata": {},
   "outputs": [
    {
     "data": {
      "text/plain": [
       "[Row(X=7, Y=5, month='mar', FFMC=86.2, DMC=26.2, DC=94.3, ISI=5.1, temp=8.2, RH=51, wind=6.7, rain=0.0, area=0.0, month_num=2.0),\n",
       " Row(X=7, Y=4, month='oct', FFMC=90.6, DMC=35.4, DC=669.1, ISI=6.7, temp=18.0, RH=33, wind=0.9, rain=0.0, area=0.0, month_num=6.0),\n",
       " Row(X=7, Y=4, month='oct', FFMC=90.6, DMC=43.7, DC=686.9, ISI=6.7, temp=14.6, RH=33, wind=1.3, rain=0.0, area=0.0, month_num=6.0),\n",
       " Row(X=8, Y=6, month='mar', FFMC=91.7, DMC=33.3, DC=77.5, ISI=9.0, temp=8.3, RH=97, wind=4.0, rain=0.2, area=0.0, month_num=2.0)]"
      ]
     },
     "execution_count": 42,
     "metadata": {},
     "output_type": "execute_result"
    }
   ],
   "source": [
    "new_df.head(4)"
   ]
  },
  {
   "cell_type": "code",
   "execution_count": 43,
   "metadata": {},
   "outputs": [
    {
     "data": {
      "text/plain": [
       "[Row(month_num=8.0),\n",
       " Row(month_num=0.0),\n",
       " Row(month_num=7.0),\n",
       " Row(month_num=1.0),\n",
       " Row(month_num=4.0),\n",
       " Row(month_num=11.0),\n",
       " Row(month_num=3.0),\n",
       " Row(month_num=2.0),\n",
       " Row(month_num=10.0),\n",
       " Row(month_num=6.0),\n",
       " Row(month_num=5.0),\n",
       " Row(month_num=9.0)]"
      ]
     },
     "execution_count": 43,
     "metadata": {},
     "output_type": "execute_result"
    }
   ],
   "source": [
    "new_df.select('month_num').distinct().collect()"
   ]
  },
  {
   "cell_type": "code",
   "execution_count": 45,
   "metadata": {},
   "outputs": [
    {
     "data": {
      "text/plain": [
       "Row(X=7, Y=5, month='mar', FFMC=86.2, DMC=26.2, DC=94.3, ISI=5.1, temp=8.2, RH=51, wind=6.7, rain=0.0, area=0.0, month_num=2.0, month_vec=SparseVector(11, {2: 1.0}))"
      ]
     },
     "execution_count": 45,
     "metadata": {},
     "output_type": "execute_result"
    }
   ],
   "source": [
    "## fitting and transforming the OneHotEncoderEstimator\n",
    "ohe = feature.OneHotEncoder(inputCols=['month_num'], outputCols=['month_vec'], dropLast=True)\n",
    "one_hot_encoded = ohe.fit(new_df).transform(new_df)\n",
    "one_hot_encoded.head()"
   ]
  },
  {
   "cell_type": "code",
   "execution_count": 46,
   "metadata": {},
   "outputs": [],
   "source": [
    "features = ['X',\n",
    " 'Y',\n",
    " 'FFMC',\n",
    " 'DMC',\n",
    " 'DC',\n",
    " 'ISI',\n",
    " 'temp',\n",
    " 'RH',\n",
    " 'wind',\n",
    " 'rain',\n",
    " 'month_vec']\n",
    "\n",
    "target = 'area'\n",
    "\n",
    "vector = VectorAssembler(inputCols=features, outputCol='features')\n",
    "vectorized_df = vector.transform(one_hot_encoded)"
   ]
  },
  {
   "cell_type": "code",
   "execution_count": 47,
   "metadata": {},
   "outputs": [
    {
     "data": {
      "text/plain": [
       "Row(X=7, Y=5, month='mar', FFMC=86.2, DMC=26.2, DC=94.3, ISI=5.1, temp=8.2, RH=51, wind=6.7, rain=0.0, area=0.0, month_num=2.0, month_vec=SparseVector(11, {2: 1.0}), features=SparseVector(21, {0: 7.0, 1: 5.0, 2: 86.2, 3: 26.2, 4: 94.3, 5: 5.1, 6: 8.2, 7: 51.0, 8: 6.7, 12: 1.0}))"
      ]
     },
     "execution_count": 47,
     "metadata": {},
     "output_type": "execute_result"
    }
   ],
   "source": [
    "vectorized_df.head()"
   ]
  },
  {
   "cell_type": "code",
   "execution_count": 48,
   "metadata": {},
   "outputs": [],
   "source": [
    "#instantiating and fitting the model\n",
    "rf_model = RandomForestRegressor(featuresCol='features', \n",
    "                                 labelCol='area', predictionCol='prediction').fit(vectorized_df)"
   ]
  },
  {
   "cell_type": "code",
   "execution_count": 49,
   "metadata": {},
   "outputs": [
    {
     "data": {
      "text/plain": [
       "SparseVector(21, {0: 0.0269, 1: 0.0524, 2: 0.2038, 3: 0.1466, 4: 0.0556, 5: 0.1352, 6: 0.1785, 7: 0.0739, 8: 0.0992, 10: 0.0001, 11: 0.0183, 13: 0.0085, 14: 0.0, 15: 0.0005, 16: 0.0002, 17: 0.0001, 18: 0.0001, 20: 0.0002})"
      ]
     },
     "execution_count": 49,
     "metadata": {},
     "output_type": "execute_result"
    }
   ],
   "source": [
    "rf_model.featureImportances"
   ]
  },
  {
   "cell_type": "code",
   "execution_count": 53,
   "metadata": {},
   "outputs": [
    {
     "data": {
      "text/plain": [
       "[Row(area=0.0, prediction=5.977433834483444),\n",
       " Row(area=0.0, prediction=5.2023739971779275),\n",
       " Row(area=0.0, prediction=5.162434742791962),\n",
       " Row(area=0.0, prediction=6.097564294591873),\n",
       " Row(area=0.0, prediction=4.851374424502416)]"
      ]
     },
     "execution_count": 53,
     "metadata": {},
     "output_type": "execute_result"
    }
   ],
   "source": [
    "## generating predictions\n",
    "predictions = rf_model.transform(vectorized_df).select('area', 'prediction')\n",
    "predictions.head(5)"
   ]
  },
  {
   "cell_type": "code",
   "execution_count": 54,
   "metadata": {},
   "outputs": [],
   "source": [
    "from pyspark.ml.evaluation import RegressionEvaluator\n",
    "evaluator = RegressionEvaluator(predictionCol='prediction', labelCol='area')"
   ]
  },
  {
   "cell_type": "code",
   "execution_count": 55,
   "metadata": {},
   "outputs": [
    {
     "data": {
      "text/plain": [
       "0.7609797252412228"
      ]
     },
     "execution_count": 55,
     "metadata": {},
     "output_type": "execute_result"
    }
   ],
   "source": [
    "# evaluating r^2\n",
    "evaluator.evaluate(predictions,{evaluator.metricName: 'r2'})"
   ]
  },
  {
   "cell_type": "code",
   "execution_count": 56,
   "metadata": {
    "scrolled": true
   },
   "outputs": [
    {
     "data": {
      "text/plain": [
       "13.077691276090865"
      ]
     },
     "execution_count": 56,
     "metadata": {},
     "output_type": "execute_result"
    }
   ],
   "source": [
    "# evaluating mean absolute error\n",
    "evaluator.evaluate(predictions,{evaluator.metricName: 'mae'})"
   ]
  },
  {
   "cell_type": "markdown",
   "metadata": {},
   "source": [
    "# Building a pipeline"
   ]
  },
  {
   "cell_type": "code",
   "execution_count": 59,
   "metadata": {},
   "outputs": [],
   "source": [
    "# importing relevant libraries\n",
    "from pyspark.ml.tuning import ParamGridBuilder, TrainValidationSplit, CrossValidator\n",
    "from pyspark.ml import Pipeline"
   ]
  },
  {
   "cell_type": "code",
   "execution_count": 61,
   "metadata": {},
   "outputs": [],
   "source": [
    "## instantiating all necessary estimator objects\n",
    "\n",
    "string_indexer = StringIndexer(inputCol='month', outputCol='month_num', handleInvalid='keep')\n",
    "one_hot_encoder = OneHotEncoder(inputCols=['month_num'], outputCols=['month_vec'], dropLast=True)\n",
    "vector_assember = VectorAssembler(inputCols=features, outputCol='features')\n",
    "random_forest = RandomForestRegressor(featuresCol='features', labelCol='area')\n",
    "stages = [string_indexer, one_hot_encoder, vector_assember, random_forest]\n",
    "\n",
    "# instantiating the pipeline with all them estimator objects\n",
    "pipeline = Pipeline(stages=stages)"
   ]
  },
  {
   "cell_type": "code",
   "execution_count": 62,
   "metadata": {},
   "outputs": [
    {
     "data": {
      "text/plain": [
       "Pipeline_0a5a647ba14f"
      ]
     },
     "execution_count": 62,
     "metadata": {},
     "output_type": "execute_result"
    }
   ],
   "source": [
    "pipeline"
   ]
  },
  {
   "cell_type": "markdown",
   "metadata": {},
   "source": [
    "# Cross Validation in Pyspark"
   ]
  },
  {
   "cell_type": "code",
   "execution_count": 69,
   "metadata": {},
   "outputs": [],
   "source": [
    "# creating parameter grid\n",
    "\n",
    "params = ParamGridBuilder().addGrid(random_forest.maxDepth, [5, 10, 15]).addGrid(random_forest.numTrees, \\\n",
    "                                                                                 [20 ,50, 100]).build()"
   ]
  },
  {
   "cell_type": "code",
   "execution_count": 70,
   "metadata": {},
   "outputs": [
    {
     "name": "stdout",
     "output_type": "stream",
     "text": [
      "total combinations of parameters:  9\n"
     ]
    },
    {
     "data": {
      "text/plain": [
       "{Param(parent='RandomForestRegressor_14254a68ddcc', name='maxDepth', doc='Maximum depth of the tree. (>= 0) E.g., depth 0 means 1 leaf node; depth 1 means 1 internal node + 2 leaf nodes.'): 5,\n",
       " Param(parent='RandomForestRegressor_14254a68ddcc', name='numTrees', doc='Number of trees to train (>= 1).'): 20}"
      ]
     },
     "execution_count": 70,
     "metadata": {},
     "output_type": "execute_result"
    }
   ],
   "source": [
    "print('total combinations of parameters: ', len(params))\n",
    "\n",
    "params[0]"
   ]
  },
  {
   "cell_type": "code",
   "execution_count": 71,
   "metadata": {},
   "outputs": [],
   "source": [
    "# instantiating the evaluator by which we will measure our model's performance\n",
    "reg_evaluator = RegressionEvaluator(predictionCol='prediction', labelCol='area', metricName = 'mae')\n",
    "\n",
    "#instantiating crossvalidator estimator\n",
    "cv = CrossValidator(estimator=pipeline, estimatorParamMaps=params, evaluator=reg_evaluator, parallelism=4)"
   ]
  },
  {
   "cell_type": "code",
   "execution_count": 72,
   "metadata": {},
   "outputs": [],
   "source": [
    "# fitting crossvalidator\n",
    "cross_validated_model = cv.fit(fire_df)"
   ]
  },
  {
   "cell_type": "code",
   "execution_count": 73,
   "metadata": {},
   "outputs": [
    {
     "data": {
      "text/plain": [
       "[20.84051309268642,\n",
       " 20.077284373491054,\n",
       " 20.455921571582255,\n",
       " 21.642818951994684,\n",
       " 20.747862793367844,\n",
       " 21.01789121507841,\n",
       " 21.79324342845812,\n",
       " 20.859052438344907,\n",
       " 21.08425083950355]"
      ]
     },
     "execution_count": 73,
     "metadata": {},
     "output_type": "execute_result"
    }
   ],
   "source": [
    "cross_validated_model.avgMetrics"
   ]
  },
  {
   "cell_type": "code",
   "execution_count": 74,
   "metadata": {
    "scrolled": false
   },
   "outputs": [
    {
     "name": "stdout",
     "output_type": "stream",
     "text": [
      "+------------------+-------+\n",
      "|        prediction|   area|\n",
      "+------------------+-------+\n",
      "| 6.078023670569959|    0.0|\n",
      "| 4.898224556740818|    0.0|\n",
      "| 5.441774803766447|    0.0|\n",
      "|  5.80959458690686|    0.0|\n",
      "|   6.1581017064693|    0.0|\n",
      "|6.0817908137348935|    0.0|\n",
      "|3.8519022365484967|    0.0|\n",
      "| 7.933736747028446|    0.0|\n",
      "|10.681791069614963|    0.0|\n",
      "| 6.256824389404297|    0.0|\n",
      "|5.6904006127150835|    0.0|\n",
      "| 6.226400426708835|    0.0|\n",
      "| 6.942929649927971|    0.0|\n",
      "| 9.005892503470223|    0.0|\n",
      "| 82.00938575158094|    0.0|\n",
      "| 6.873589388672895|    0.0|\n",
      "| 5.316270240176767|    0.0|\n",
      "| 6.243557822004782|    0.0|\n",
      "| 4.992480147079991|    0.0|\n",
      "| 5.225887891069408|    0.0|\n",
      "| 10.29237684316396|    0.0|\n",
      "| 4.432525738741523|    0.0|\n",
      "| 5.494708782800936|    0.0|\n",
      "| 8.323393928518794|    0.0|\n",
      "|6.4404824494674155|    0.0|\n",
      "| 5.076066052167882|    0.0|\n",
      "|  6.13658071939946|    0.0|\n",
      "|10.870854306751108|    0.0|\n",
      "| 59.35637233093607|    0.0|\n",
      "| 9.597347911073143|    0.0|\n",
      "|44.940947323835616|    0.0|\n",
      "| 6.177481408913826|    0.0|\n",
      "| 5.137554278140474|    0.0|\n",
      "| 6.156410089095974|    0.0|\n",
      "| 4.942825530571913|    0.0|\n",
      "|13.125284949240154|    0.0|\n",
      "|5.6536372484688515|    0.0|\n",
      "| 5.427906409740033|    0.0|\n",
      "|6.8145890439206696|    0.0|\n",
      "| 4.949836652252303|    0.0|\n",
      "|10.101912409424864|    0.0|\n",
      "|   4.4876996318546|    0.0|\n",
      "| 4.314137981086187|    0.0|\n",
      "| 5.376743480113739|    0.0|\n",
      "|6.9479568985283455|    0.0|\n",
      "| 61.79856087780402|    0.0|\n",
      "| 6.254165239689435|    0.0|\n",
      "| 7.071656817613865|    0.0|\n",
      "| 4.672028335143784|    0.0|\n",
      "| 6.253217443624121|    0.0|\n",
      "| 12.24470900078501|    0.0|\n",
      "| 4.161683763227337|    0.0|\n",
      "| 4.715551785884281|    0.0|\n",
      "| 4.715551785884281|    0.0|\n",
      "| 4.384986721687171|    0.0|\n",
      "| 16.56205021664916|    0.0|\n",
      "| 7.089357678502081|    0.0|\n",
      "|5.3503942551978305|    0.0|\n",
      "| 7.807086428576248|    0.0|\n",
      "|  7.39603631677515|    0.0|\n",
      "| 4.358657678281246|    0.0|\n",
      "| 5.537549912350702|    0.0|\n",
      "|5.2351729489676915|    0.0|\n",
      "|4.4998494216244485|    0.0|\n",
      "|4.4312933131730885|    0.0|\n",
      "|7.7084061739669885|    0.0|\n",
      "| 7.721335182996138|    0.0|\n",
      "| 8.549398759894885|    0.0|\n",
      "| 8.549398759894885|    0.0|\n",
      "| 5.537627267954622|    0.0|\n",
      "| 6.199283535748715|    0.0|\n",
      "| 4.908855873334213|    0.0|\n",
      "|  4.93911615015919|    0.0|\n",
      "|  5.78152220141434|    0.0|\n",
      "| 7.362688907928764|    0.0|\n",
      "| 9.668996674203118|    0.0|\n",
      "|7.2273468675729795|    0.0|\n",
      "| 6.310127822096506|    0.0|\n",
      "|3.2745243408323255|    0.0|\n",
      "|18.316560380110054|    0.0|\n",
      "| 6.443114589584136|    0.0|\n",
      "| 4.229699247368576|    0.0|\n",
      "| 3.762206750115918|    0.0|\n",
      "| 3.003852857691957|    0.0|\n",
      "| 6.107373685321858|    0.0|\n",
      "| 14.33075431183699|    0.0|\n",
      "|13.682983706241123|    0.0|\n",
      "| 9.737958534578876|    0.0|\n",
      "|10.998245572340203|    0.0|\n",
      "|5.8025611693637655|    0.0|\n",
      "| 5.919276171648553|    0.0|\n",
      "|19.537375619845555|    0.0|\n",
      "| 9.892253395330629|    0.0|\n",
      "|17.772969600240835|    0.0|\n",
      "| 4.447112584604238|    0.0|\n",
      "|5.6172702803728605|    0.0|\n",
      "|4.6742815208433255|    0.0|\n",
      "| 4.706744484340225|    0.0|\n",
      "|5.9561253659541205|    0.0|\n",
      "|5.5702742565566155|    0.0|\n",
      "|5.5702742565566155|    0.0|\n",
      "| 4.604125102149442|    0.0|\n",
      "| 4.317224160963874|    0.0|\n",
      "| 37.97533230281372|    0.0|\n",
      "| 4.777797276309657|    0.0|\n",
      "|5.9811779713070745|    0.0|\n",
      "| 4.941937237140679|    0.0|\n",
      "|  4.54893454291132|    0.0|\n",
      "|5.1901390982935265|    0.0|\n",
      "|  6.02386600891117|    0.0|\n",
      "|5.5347872906486835|    0.0|\n",
      "| 3.808614206572949|    0.0|\n",
      "| 5.095903313927519|    0.0|\n",
      "| 4.820838306104501|    0.0|\n",
      "| 5.181420581995138|    0.0|\n",
      "| 5.236406856504943|    0.0|\n",
      "| 4.923131259451049|    0.0|\n",
      "|   5.6759417274725|    0.0|\n",
      "|4.5300966203356605|    0.0|\n",
      "|3.8627523370765435|    0.0|\n",
      "|5.6978564641809735|    0.0|\n",
      "| 7.690918908481427|    0.0|\n",
      "|10.905929780412764|    0.0|\n",
      "| 9.046228280596942|    0.0|\n",
      "| 4.102053095130893|    0.0|\n",
      "| 6.386828962129872|    0.0|\n",
      "| 4.662940416880532|    0.0|\n",
      "| 9.841656447994868|    0.0|\n",
      "| 4.681925256886911|    0.0|\n",
      "| 4.523673043470219|    0.0|\n",
      "| 6.117729432717044|    0.0|\n",
      "|5.0900421582907125|    0.0|\n",
      "| 5.467706431544752|    0.0|\n",
      "| 4.965489795732933|    0.0|\n",
      "| 4.259461339964548|    0.0|\n",
      "| 5.350682205599518|    0.0|\n",
      "| 8.981156293845615|    0.0|\n",
      "| 6.466492087168805|    0.0|\n",
      "|10.991107393347178|   0.36|\n",
      "|21.481141559736432|   0.43|\n",
      "| 13.36716853057233|   0.47|\n",
      "|  3.47036824380761|   0.55|\n",
      "|15.638713328950994|   0.61|\n",
      "|27.061496421033095|   0.71|\n",
      "|3.7220777273246126|   0.77|\n",
      "| 10.33223338308961|    0.9|\n",
      "|  5.14337295891101|   0.95|\n",
      "|11.331473917098755|   0.96|\n",
      "| 9.204039078698182|   1.07|\n",
      "| 9.258655107954276|   1.12|\n",
      "| 8.709215725838739|   1.19|\n",
      "|12.206338324116262|   1.36|\n",
      "| 7.384973087388426|   1.43|\n",
      "| 4.614730000422963|   1.46|\n",
      "|22.952293264347748|   1.46|\n",
      "| 5.229202766657455|   1.56|\n",
      "|10.723768613424777|   1.61|\n",
      "| 4.514834145702097|   1.63|\n",
      "| 3.538167613976974|   1.64|\n",
      "|  6.13658071939946|   1.69|\n",
      "| 5.260801356761124|   1.75|\n",
      "| 7.669859863442968|    1.9|\n",
      "|  6.77885124721721|   1.94|\n",
      "|39.450433611002424|   1.95|\n",
      "|5.9089068574634345|   2.01|\n",
      "| 5.497482788412393|   2.14|\n",
      "| 4.252790596096742|   2.29|\n",
      "|   5.2769443875067|   2.51|\n",
      "| 8.435648612275264|   2.53|\n",
      "|19.240765734270152|   2.55|\n",
      "| 5.912635985650016|   2.57|\n",
      "| 5.942907965471829|   2.69|\n",
      "| 7.095339013220747|   2.74|\n",
      "| 9.903059772710213|   3.07|\n",
      "|3.7726623533294292|    3.5|\n",
      "|3.6176777787153265|   4.53|\n",
      "| 7.054343333691532|   4.61|\n",
      "| 4.612041552313334|   4.69|\n",
      "| 6.542587062361077|   4.88|\n",
      "| 14.77738589753606|   5.23|\n",
      "|10.138384174294117|   5.33|\n",
      "| 6.416595241909686|   5.44|\n",
      "| 5.493681158260418|   6.38|\n",
      "|10.376294619618056|   6.83|\n",
      "| 9.603623027346476|   6.96|\n",
      "| 8.262397196212596|   7.04|\n",
      "| 16.43943470225266|   7.19|\n",
      "| 26.01280980932274|    7.3|\n",
      "| 4.779918186129808|    7.4|\n",
      "| 6.173498765640776|   8.24|\n",
      "|5.5076855392530675|   8.31|\n",
      "| 7.354231102857403|   8.68|\n",
      "| 5.815344747443749|   8.71|\n",
      "|22.596716104906168|   9.41|\n",
      "| 5.815344747443749|  10.01|\n",
      "| 4.607048207453383|  10.02|\n",
      "| 7.054343333691532|  10.93|\n",
      "|12.603316753314964|  11.06|\n",
      "| 7.214151894452004|  11.24|\n",
      "|10.035533294160016|  11.32|\n",
      "|20.663639108141876|  11.53|\n",
      "| 5.727900516342963|   12.1|\n",
      "| 6.413281273317396|  13.05|\n",
      "| 7.467277176063688|   13.7|\n",
      "| 6.152847897202678|  13.99|\n",
      "| 6.329718195056427|  14.57|\n",
      "| 6.557511211340913|  15.45|\n",
      "| 8.391879224167347|   17.2|\n",
      "|  9.41020748280647|  19.23|\n",
      "|  9.51808694553754|  23.41|\n",
      "|7.7585289592228515|  24.23|\n",
      "|11.894622385594108|   26.0|\n",
      "|5.3704293429055845|  26.13|\n",
      "|6.7833744060942145|  27.35|\n",
      "| 6.414634515117512|  28.66|\n",
      "| 6.414634515117512|  28.66|\n",
      "| 7.700667155432954|  29.48|\n",
      "| 8.233117983803522|  30.32|\n",
      "| 14.11416231529593|  31.72|\n",
      "|  8.12435965786112|  31.86|\n",
      "| 8.126039075248407|  32.07|\n",
      "|  8.52665815976546|  35.88|\n",
      "|6.6431348458150445|  36.85|\n",
      "|  16.8474317117955|  37.02|\n",
      "|10.975853368364888|  37.71|\n",
      "|10.790677140679396|  48.55|\n",
      "|10.940823857092719|  49.37|\n",
      "|16.946397483419847|   58.3|\n",
      "| 40.09859347020993|   64.1|\n",
      "| 19.14048556723182|   71.3|\n",
      "|36.217319229712025|  88.49|\n",
      "| 41.88544749691912|  95.18|\n",
      "|14.316234569493258| 103.39|\n",
      "| 50.20711579324171| 105.66|\n",
      "|153.92957155659707| 154.88|\n",
      "| 45.18092251949211| 196.48|\n",
      "| 79.92514362521274| 200.94|\n",
      "|   72.389675968726| 212.88|\n",
      "| 645.4033127178462|1090.84|\n",
      "| 5.039515371767378|    0.0|\n",
      "| 5.461621977811905|    0.0|\n",
      "| 6.574329082018752|    0.0|\n",
      "|4.8726270135783825|  10.13|\n",
      "| 7.391913266187583|    0.0|\n",
      "| 5.249948882228885|   2.87|\n",
      "|12.761791255036918|   0.76|\n",
      "|11.527668356595296|   0.09|\n",
      "|  3.75981820601675|   0.75|\n",
      "|10.197677794361706|    0.0|\n",
      "|4.7947206515307945|   2.47|\n",
      "|  24.0539700927858|   0.68|\n",
      "| 6.967893840783789|   0.24|\n",
      "| 5.000676464803251|   0.21|\n",
      "| 6.015755291716549|   1.52|\n",
      "|10.465774685149288|  10.34|\n",
      "| 6.313092629093156|    0.0|\n",
      "|10.946472831616797|   8.02|\n",
      "| 4.490414866206596|   0.68|\n",
      "| 5.322234543522245|    0.0|\n",
      "|  5.55293127573538|   1.38|\n",
      "| 5.425160117398171|   8.85|\n",
      "| 4.792003661058826|    3.3|\n",
      "| 4.791582497642421|   4.25|\n",
      "| 7.420922447301993|   1.56|\n",
      "|   5.7166185865334|   6.54|\n",
      "| 3.981535889051575|   0.79|\n",
      "| 7.260937546205098|   0.17|\n",
      "|7.7681473439721636|    0.0|\n",
      "| 4.411903379367117|    0.0|\n",
      "| 5.775755011477804|    4.4|\n",
      "| 6.569291039967831|   0.52|\n",
      "|  7.72520156567986|   9.27|\n",
      "| 5.094158613260231|   3.09|\n",
      "|10.200964094800392|   8.98|\n",
      "| 13.56054999918857|  11.19|\n",
      "| 7.310830002983412|   5.38|\n",
      "|11.114896288380372|  17.85|\n",
      "| 10.45163620752262|  10.73|\n",
      "|11.114896288380372|  22.03|\n",
      "|11.114896288380372|   9.77|\n",
      "| 7.284723909793447|   9.27|\n",
      "| 12.13320363744925|  24.77|\n",
      "| 6.178946218930479|    0.0|\n",
      "| 4.796365707903798|    1.1|\n",
      "| 7.662171285852846|  24.24|\n",
      "|7.9007398525154295|    0.0|\n",
      "| 8.011887023105086|    0.0|\n",
      "|  5.81131385281031|    0.0|\n",
      "|  5.05821445938191|    0.0|\n",
      "| 5.347001949589312|    0.0|\n",
      "| 4.634572382463754|    0.0|\n",
      "| 6.918350825483095|    8.0|\n",
      "| 5.043715782041939|   2.64|\n",
      "|   59.184018519078|  86.45|\n",
      "| 8.951689566398272|   6.57|\n",
      "|14.248452881099137|    0.0|\n",
      "| 5.492192484070655|    0.9|\n",
      "| 5.898210872361411|    0.0|\n",
      "| 20.19133150790205|    0.0|\n",
      "| 6.045001869508278|    0.0|\n",
      "+------------------+-------+\n",
      "only showing top 300 rows\n",
      "\n"
     ]
    }
   ],
   "source": [
    "predictions = cross_validated_model.transform(spark_df)\n",
    "predictions.select('prediction', 'area').show(300)"
   ]
  },
  {
   "cell_type": "code",
   "execution_count": 75,
   "metadata": {},
   "outputs": [
    {
     "data": {
      "text/plain": [
       "pyspark.ml.pipeline.PipelineModel"
      ]
     },
     "execution_count": 75,
     "metadata": {},
     "output_type": "execute_result"
    }
   ],
   "source": [
    "type(cross_validated_model.bestModel)"
   ]
  },
  {
   "cell_type": "code",
   "execution_count": 76,
   "metadata": {},
   "outputs": [
    {
     "data": {
      "text/plain": [
       "[StringIndexerModel: uid=StringIndexer_be9c0efe0294, handleInvalid=keep,\n",
       " OneHotEncoderModel: uid=OneHotEncoder_99d27c6f46a0, dropLast=true, handleInvalid=error, numInputCols=1, numOutputCols=1,\n",
       " VectorAssembler_7a24b1dd0997,\n",
       " RandomForestRegressionModel: uid=RandomForestRegressor_14254a68ddcc, numTrees=50, numFeatures=22]"
      ]
     },
     "execution_count": 76,
     "metadata": {},
     "output_type": "execute_result"
    }
   ],
   "source": [
    "cross_validated_model.bestModel.stages"
   ]
  },
  {
   "cell_type": "code",
   "execution_count": 84,
   "metadata": {},
   "outputs": [],
   "source": [
    "optimal_rf_model = cross_validated_model.bestModel.stages[3]"
   ]
  },
  {
   "cell_type": "code",
   "execution_count": 85,
   "metadata": {},
   "outputs": [
    {
     "data": {
      "text/plain": [
       "SparseVector(22, {0: 0.0904, 1: 0.0805, 2: 0.1846, 3: 0.1244, 4: 0.1309, 5: 0.0579, 6: 0.0788, 7: 0.0706, 8: 0.1478, 9: 0.0005, 10: 0.0017, 11: 0.0186, 12: 0.0003, 13: 0.0071, 14: 0.0001, 15: 0.0049, 16: 0.0004, 17: 0.0, 18: 0.0002, 19: 0.0, 20: 0.0002})"
      ]
     },
     "execution_count": 85,
     "metadata": {},
     "output_type": "execute_result"
    }
   ],
   "source": [
    "optimal_rf_model.featureImportances"
   ]
  },
  {
   "cell_type": "code",
   "execution_count": 86,
   "metadata": {},
   "outputs": [
    {
     "data": {
      "text/plain": [
       "50"
      ]
     },
     "execution_count": 86,
     "metadata": {},
     "output_type": "execute_result"
    }
   ],
   "source": [
    "optimal_rf_model.getNumTrees"
   ]
  },
  {
   "cell_type": "code",
   "execution_count": null,
   "metadata": {},
   "outputs": [],
   "source": []
  }
 ],
 "metadata": {
  "kernelspec": {
   "display_name": "Python 3",
   "language": "python",
   "name": "python3"
  },
  "language_info": {
   "codemirror_mode": {
    "name": "ipython",
    "version": 3
   },
   "file_extension": ".py",
   "mimetype": "text/x-python",
   "name": "python",
   "nbconvert_exporter": "python",
   "pygments_lexer": "ipython3",
   "version": "3.7.4"
  }
 },
 "nbformat": 4,
 "nbformat_minor": 2
}
